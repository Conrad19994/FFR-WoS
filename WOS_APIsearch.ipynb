{
 "cells": [
  {
   "cell_type": "code",
   "execution_count": 31,
   "metadata": {},
   "outputs": [],
   "source": [
    "import pandas as pd\n",
    "import requests\n",
    "import numpy as np\n",
    "from requests.auth import HTTPBasicAuth\n",
    "import json\n",
    "import time\n",
    "from tqdm import tqdm"
   ]
  },
  {
   "cell_type": "markdown",
   "metadata": {},
   "source": [
    "#### Preprocess Query input"
   ]
  },
  {
   "cell_type": "code",
   "execution_count": 32,
   "metadata": {},
   "outputs": [],
   "source": [
    "raw_companies= pd.read_excel('UBC_companies.xlsx')\n",
    "raw2 = pd.read_excel('companysv2.xlsx')"
   ]
  },
  {
   "cell_type": "code",
   "execution_count": 33,
   "metadata": {},
   "outputs": [
    {
     "data": {
      "text/html": [
       "<div>\n",
       "<style scoped>\n",
       "    .dataframe tbody tr th:only-of-type {\n",
       "        vertical-align: middle;\n",
       "    }\n",
       "\n",
       "    .dataframe tbody tr th {\n",
       "        vertical-align: top;\n",
       "    }\n",
       "\n",
       "    .dataframe thead th {\n",
       "        text-align: right;\n",
       "    }\n",
       "</style>\n",
       "<table border=\"1\" class=\"dataframe\">\n",
       "  <thead>\n",
       "    <tr style=\"text-align: right;\">\n",
       "      <th></th>\n",
       "      <th>Name of Organization</th>\n",
       "      <th>Enviro specific papers</th>\n",
       "    </tr>\n",
       "  </thead>\n",
       "  <tbody>\n",
       "    <tr>\n",
       "      <th>0</th>\n",
       "      <td>1920 Energy</td>\n",
       "      <td>NaN</td>\n",
       "    </tr>\n",
       "    <tr>\n",
       "      <th>1</th>\n",
       "      <td>88 Energy</td>\n",
       "      <td>NaN</td>\n",
       "    </tr>\n",
       "    <tr>\n",
       "      <th>2</th>\n",
       "      <td>AAG Energy Holdings</td>\n",
       "      <td>NaN</td>\n",
       "    </tr>\n",
       "    <tr>\n",
       "      <th>3</th>\n",
       "      <td>Abraxas Petroleum</td>\n",
       "      <td>NaN</td>\n",
       "    </tr>\n",
       "    <tr>\n",
       "      <th>4</th>\n",
       "      <td>Absolute Software</td>\n",
       "      <td>NaN</td>\n",
       "    </tr>\n",
       "  </tbody>\n",
       "</table>\n",
       "</div>"
      ],
      "text/plain": [
       "  Name of Organization  Enviro specific papers\n",
       "0          1920 Energy                     NaN\n",
       "1            88 Energy                     NaN\n",
       "2  AAG Energy Holdings                     NaN\n",
       "3    Abraxas Petroleum                     NaN\n",
       "4    Absolute Software                     NaN"
      ]
     },
     "execution_count": 33,
     "metadata": {},
     "output_type": "execute_result"
    }
   ],
   "source": [
    "companies=raw2\n",
    "#companies['Papers in last 5 years']=np.nan\n",
    "companies[\"Enviro specific papers\"]=np.nan\n",
    "companies.head()"
   ]
  },
  {
   "cell_type": "code",
   "execution_count": 34,
   "metadata": {},
   "outputs": [
    {
     "data": {
      "text/plain": [
       "\"for i in range(len(companies['Name of Organization'])):\\n    comp=companies['Name of Organization'].iloc[i]\\n    #print(comp)\\n    companies.at[i,'Papers in last 5 years']=i #replace with query result\\n    companies.at[i,'Enviro specific papers']=i**2 # replace with query result\""
      ]
     },
     "execution_count": 34,
     "metadata": {},
     "output_type": "execute_result"
    }
   ],
   "source": [
    "'''for i in range(len(companies['Name of Organization'])):\n",
    "    comp=companies['Name of Organization'].iloc[i]\n",
    "    #print(comp)\n",
    "    companies.at[i,'Papers in last 5 years']=i #replace with query result\n",
    "    companies.at[i,'Enviro specific papers']=i**2 # replace with query result'''"
   ]
  },
  {
   "cell_type": "code",
   "execution_count": 35,
   "metadata": {},
   "outputs": [
    {
     "data": {
      "text/html": [
       "<div>\n",
       "<style scoped>\n",
       "    .dataframe tbody tr th:only-of-type {\n",
       "        vertical-align: middle;\n",
       "    }\n",
       "\n",
       "    .dataframe tbody tr th {\n",
       "        vertical-align: top;\n",
       "    }\n",
       "\n",
       "    .dataframe thead th {\n",
       "        text-align: right;\n",
       "    }\n",
       "</style>\n",
       "<table border=\"1\" class=\"dataframe\">\n",
       "  <thead>\n",
       "    <tr style=\"text-align: right;\">\n",
       "      <th></th>\n",
       "      <th>Name of Organization</th>\n",
       "      <th>Enviro specific papers</th>\n",
       "    </tr>\n",
       "  </thead>\n",
       "  <tbody>\n",
       "    <tr>\n",
       "      <th>0</th>\n",
       "      <td>1920 Energy</td>\n",
       "      <td>NaN</td>\n",
       "    </tr>\n",
       "    <tr>\n",
       "      <th>1</th>\n",
       "      <td>88 Energy</td>\n",
       "      <td>NaN</td>\n",
       "    </tr>\n",
       "    <tr>\n",
       "      <th>2</th>\n",
       "      <td>AAG Energy Holdings</td>\n",
       "      <td>NaN</td>\n",
       "    </tr>\n",
       "    <tr>\n",
       "      <th>3</th>\n",
       "      <td>Abraxas Petroleum</td>\n",
       "      <td>NaN</td>\n",
       "    </tr>\n",
       "    <tr>\n",
       "      <th>4</th>\n",
       "      <td>Absolute Software</td>\n",
       "      <td>NaN</td>\n",
       "    </tr>\n",
       "  </tbody>\n",
       "</table>\n",
       "</div>"
      ],
      "text/plain": [
       "  Name of Organization  Enviro specific papers\n",
       "0          1920 Energy                     NaN\n",
       "1            88 Energy                     NaN\n",
       "2  AAG Energy Holdings                     NaN\n",
       "3    Abraxas Petroleum                     NaN\n",
       "4    Absolute Software                     NaN"
      ]
     },
     "execution_count": 35,
     "metadata": {},
     "output_type": "execute_result"
    }
   ],
   "source": [
    "companies.head()"
   ]
  },
  {
   "cell_type": "markdown",
   "metadata": {},
   "source": [
    "#### Create Query"
   ]
  },
  {
   "cell_type": "code",
   "execution_count": 36,
   "metadata": {},
   "outputs": [],
   "source": [
    "#Build list of queries to loop thru\n",
    "# Query contains 3 main parts that change: Organization (org), Funding company (comp), and research categories\n",
    "# Research categories are stored in list 'optns' for easy modification, and then constructed to the correct format in string 'cat'\n",
    "\n",
    "queries=[] #not category specific\n",
    "specqueries=[] #category specific\n",
    "org = 'University of Toronto'\n",
    "optns=['Environmental Sciences','Energy Fuels', 'Environmental Engineering']\n",
    "for i in range(len(companies.index)):\n",
    "    comp=companies['Name of Organization'].iloc[i]\n",
    "    cat=str()\n",
    "    for i in range(len(optns)):\n",
    "        if i<len(optns)-1:\n",
    "            item='('+optns[i]+')OR'\n",
    "            #print(item)\n",
    "        elif i==len(optns)-1:\n",
    "            item='('+optns[i]+')'\n",
    "            #print(item)\n",
    "        cat+=item\n",
    "    #print(cat)    \n",
    "    specquery='OG=('+org+') AND FO=('+comp+') AND WC=('+cat+')'\n",
    "    query='OG=('+org+') AND FO=('+comp+')'\n",
    "    #print(query)\n",
    "    specqueries.append(specquery)\n",
    "    queries.append(query)\n"
   ]
  },
  {
   "cell_type": "markdown",
   "metadata": {},
   "source": [
    "Questions/TODOs:\n",
    "1. Clean company list to either only acronyms or no acronyms for entries with both. Check WoS search manually if using any combination (acronym alone, name alone, or both) provide same result? <br>\n",
    "    a) does the LLC or other suffix affect search results? Need to test (use imperial oil, imperial oil Ltd, imperial oil limited, imperial oil resources, imperial oil resources ltd and imperial oil resources limited)\n",
    "2. Do we want double counting prevention?\n",
    "3. Need a couple manual searches to verify correct data is being pulled\n",
    "4. What categories are considered enviro? Chemistry? Forestry? Enviro sci? Enviro eng?"
   ]
  },
  {
   "cell_type": "code",
   "execution_count": 37,
   "metadata": {},
   "outputs": [
    {
     "name": "stderr",
     "output_type": "stream",
     "text": [
      "100%|██████████| 1130/1130 [09:55<00:00,  1.90it/s]\n"
     ]
    }
   ],
   "source": [
    "url = \"https://wos-api.clarivate.com/api/wos\"\n",
    "key = \"ab99da06e236c7e3b31e3d488a95046789651be7\"\n",
    "headers = {'accept': 'application/json', 'X-ApiKey': key }\n",
    "h2={'X-ApiKey': key}\n",
    "auth = HTTPBasicAuth('X-ApiKey',key)\n",
    "# loop to search, changes data sent to api each time\n",
    "data= { 'databaseId': 'WOS', 'lang': 'en', 'usrQuery': 'OG=(University of Toronto) AND FO=(Imperial Oil)', 'edition': '', 'publishTimeSpan': '2018-01-01+2023-01-01', 'loadTimeSpan': '', 'createdTimeSpan': '', 'modifiedTimeSpan': '', 'count': 100, 'firstRecord': 1, 'sortField': '', 'viewField': 'WOS+UID+titles', 'optionView': 'FS', 'optionOther': '' }\n",
    "for i in tqdm(range(len(companies.index))):\n",
    "    data['usrQuery']=specqueries[i]\n",
    "    rawdata=requests.post(url,headers=headers,json=data)\n",
    "    parsed_data= json.loads(rawdata.content)\n",
    "    status=rawdata.status_code\n",
    "    while status==429:\n",
    "        time.sleep(0.5)\n",
    "        rawdata=requests.post(url,headers=headers,json=data)\n",
    "        parsed_data= json.loads(rawdata.content)\n",
    "        status=rawdata.status_code\n",
    "\n",
    "    #print(rawdata.status_code)\n",
    "    companies.at[i,'Papers in last 5 years']=parsed_data['QueryResult']['RecordsFound']\n",
    "    #time.sleep(0.20)"
   ]
  },
  {
   "cell_type": "code",
   "execution_count": 38,
   "metadata": {},
   "outputs": [],
   "source": [
    "companies.head()\n",
    "companies.to_csv('testing3.csv')"
   ]
  },
  {
   "attachments": {},
   "cell_type": "markdown",
   "metadata": {},
   "source": [
    "## Data API exploration"
   ]
  },
  {
   "cell_type": "code",
   "execution_count": 39,
   "metadata": {},
   "outputs": [],
   "source": [
    "url = \"https://wos-api.clarivate.com/api/wos\"\n",
    "key = \"ab99da06e236c7e3b31e3d488a95046789651be7\"\n",
    "headers = {'accept': 'application/json', 'X-ApiKey': key }\n",
    "h2={'X-ApiKey': key}\n",
    "auth = HTTPBasicAuth('X-ApiKey',key)\n",
    "# Baseline query searching uoft and funding company only\n",
    "data= { 'databaseId': 'WOS', 'lang': 'en', 'usrQuery': 'OG=(University of Toronto) AND FO=(Absolute Software Corp.)', 'edition': '', 'publishTimeSpan': '2018-01-01+2023-01-01', 'loadTimeSpan': '', 'createdTimeSpan': '', 'modifiedTimeSpan': '', 'count': 100, 'firstRecord': 1, 'sortField': '', 'viewField': 'WOS+UID+titles', 'optionView': 'FS', 'optionOther': '' }"
   ]
  },
  {
   "cell_type": "code",
   "execution_count": 40,
   "metadata": {},
   "outputs": [],
   "source": [
    "stuff=requests.post(url,headers=headers, json=data)"
   ]
  },
  {
   "cell_type": "code",
   "execution_count": 41,
   "metadata": {},
   "outputs": [
    {
     "name": "stdout",
     "output_type": "stream",
     "text": [
      "b'{\"Data\":{\"Records\":{\"records\":\"\"}},\"QueryResult\":{\"QueryID\":2234,\"RecordsSearched\":17435882,\"RecordsFound\":0}}'\n"
     ]
    }
   ],
   "source": [
    "print(stuff.content)"
   ]
  },
  {
   "cell_type": "code",
   "execution_count": 42,
   "metadata": {},
   "outputs": [
    {
     "name": "stdout",
     "output_type": "stream",
     "text": [
      "<class 'dict'>\n"
     ]
    }
   ],
   "source": [
    "parsed = json.loads(stuff.content)\n",
    "print(type(parsed))"
   ]
  },
  {
   "cell_type": "code",
   "execution_count": 43,
   "metadata": {},
   "outputs": [
    {
     "data": {
      "text/plain": [
       "{'QueryID': 2234, 'RecordsSearched': 17435882, 'RecordsFound': 0}"
      ]
     },
     "execution_count": 43,
     "metadata": {},
     "output_type": "execute_result"
    }
   ],
   "source": [
    "# explore data structure\n",
    "parsed.keys()\n",
    "parsed['QueryResult']"
   ]
  },
  {
   "cell_type": "code",
   "execution_count": 44,
   "metadata": {},
   "outputs": [
    {
     "data": {
      "text/plain": [
       "0"
      ]
     },
     "execution_count": 44,
     "metadata": {},
     "output_type": "execute_result"
    }
   ],
   "source": [
    "parsed['QueryResult']['RecordsFound']\n",
    "# Get number of results"
   ]
  },
  {
   "cell_type": "code",
   "execution_count": null,
   "metadata": {},
   "outputs": [],
   "source": []
  }
 ],
 "metadata": {
  "kernelspec": {
   "display_name": "Python 3.9.7 ('base')",
   "language": "python",
   "name": "python3"
  },
  "language_info": {
   "codemirror_mode": {
    "name": "ipython",
    "version": 3
   },
   "file_extension": ".py",
   "mimetype": "text/x-python",
   "name": "python",
   "nbconvert_exporter": "python",
   "pygments_lexer": "ipython3",
   "version": "3.9.7"
  },
  "orig_nbformat": 4,
  "vscode": {
   "interpreter": {
    "hash": "fb833273add3e7c60eb33c0608260b79a61e072ade6f02cc8d07b0a26eef8ab8"
   }
  }
 },
 "nbformat": 4,
 "nbformat_minor": 2
}
